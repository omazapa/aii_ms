{
 "cells": [
  {
   "cell_type": "code",
   "execution_count": null,
   "metadata": {},
   "outputs": [],
   "source": [
    "import json"
   ]
  },
  {
   "cell_type": "code",
   "execution_count": null,
   "metadata": {},
   "outputs": [],
   "source": [
    "REQUEST = json.dumps({\n",
    "    'path' : {},\n",
    "    'args' : {}\n",
    "})"
   ]
  },
  {
   "cell_type": "markdown",
   "metadata": {},
   "source": [
    "### Testing persistence\n",
    "the next variable is persistent in the session"
   ]
  },
  {
   "cell_type": "code",
   "execution_count": null,
   "metadata": {},
   "outputs": [],
   "source": [
    "name='noname :('"
   ]
  },
  {
   "cell_type": "code",
   "execution_count": null,
   "metadata": {},
   "outputs": [],
   "source": [
    "def get_name():\n",
    "    return {'name':name}\n",
    "\n",
    "def set_name(n):\n",
    "    global name\n",
    "    name=n"
   ]
  },
  {
   "cell_type": "markdown",
   "metadata": {},
   "source": [
    "### Notebook http endpoints\n",
    "You can to create the endpoint using tags\n",
    "and below to write the apidocs docstring"
   ]
  },
  {
   "cell_type": "code",
   "execution_count": null,
   "metadata": {},
   "outputs": [],
   "source": [
    "# GET /name/set/:name\n",
    "\"\"\"\n",
    "    @api {get} name/set/:name/ Set user\n",
    "    @apiName Set User\n",
    "    @apiGroup User \n",
    "    @apiDescription API will set user name\n",
    "    @apiParam {String} uid  uid \n",
    "    @apiSuccessParam {String} message message will be display\n",
    "\n",
    "    @apiSuccessExample Success-Response:\n",
    "    HTTP/1.1 200 OK\n",
    "    {\n",
    "    [\"name\": \"xyz\",\n",
    "    \"name\": \"yyy\"]\n",
    "    }\n",
    "    @apiErrorExample Error-Response:\n",
    "    HTTP/1.1 403 Bad Data\n",
    "    {\n",
    "    \"status\": \"Bad Data\"\n",
    "    }\n",
    "\"\"\"\n",
    "request = json.loads(REQUEST)\n",
    "n = request['path'].get('name')\n",
    "set_name(n)\n",
    "\n",
    "print('{\"status\":\"done\"}')"
   ]
  },
  {
   "cell_type": "code",
   "execution_count": null,
   "metadata": {},
   "outputs": [],
   "source": [
    "# GET /name/get\n",
    "\"\"\"\n",
    "    @api {get} name/get/ Get User\n",
    "    @apiName Get User\n",
    "    @apiGroup User \n",
    "    @apiDescription API will return user name\n",
    "    @apiParam {String} uid  uid \n",
    "    @apiSuccessParam {String} message message will be display\n",
    "    \n",
    "    @apiSuccessExample Success-Response:\n",
    "    HTTP/1.1 200 OK\n",
    "    {\n",
    "    [\"name\": \"xyz\",\n",
    "    \"name\": \"yyy\"]\n",
    "    }\n",
    "    @apiErrorExample Error-Response:\n",
    "    HTTP/1.1 403 Bad Data\n",
    "    {\n",
    "    \"status\": \"Bad Data\"\n",
    "    }\n",
    "\"\"\"\n",
    "print(get_name())"
   ]
  }
 ],
 "metadata": {
  "kernelspec": {
   "display_name": "Python 3",
   "language": "python",
   "name": "python3"
  },
  "language_info": {
   "codemirror_mode": {
    "name": "ipython",
    "version": 3
   },
   "file_extension": ".py",
   "mimetype": "text/x-python",
   "name": "python",
   "nbconvert_exporter": "python",
   "pygments_lexer": "ipython3",
   "version": "3.6.8"
  }
 },
 "nbformat": 4,
 "nbformat_minor": 2
}
